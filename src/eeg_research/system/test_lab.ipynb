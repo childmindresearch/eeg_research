{
 "cells": [
  {
   "cell_type": "markdown",
   "metadata": {},
   "source": [
    "# Tutorial\n",
    "Here is how to use the `bids_selector` module (which is still under development).\n",
    "The first thing to know is that the main object you will be dealing with is a BidsArchitecture.\n",
    "As indicated in its name, the object will provide a view of the architecture of the dataset as a function of the user input.\n",
    "The database is basically all the files parsed into a pandas dataframe. And it is from this dataframe I will work on.\n",
    "For example if we want a list of all the eeg data which is a `pickle` object (extension `.pkl`) we will input the object as follow:"
   ]
  },
  {
   "cell_type": "code",
   "execution_count": 1,
   "metadata": {},
   "outputs": [],
   "source": [
    "from pathlib import Path\n",
    "from eeg_research.system.bids_selector  import BidsArchitecture, BidsQuery, BidsPath, BidsDescriptor\n",
    "import os\n",
    "root = Path(\"/data2/Projects/eeg_fmri_natview/derivatives\")\n",
    "architecture = BidsArchitecture(\n",
    "    root = root,\n",
    "    datatype='eeg',\n",
    "    suffix='eeg',\n",
    "    extension = '.pkl'\n",
    ")\n"
   ]
  },
  {
   "cell_type": "markdown",
   "metadata": {},
   "source": [
    "We can have a view of the desired dataset by getting the attribute `database` of the `architecture` instance:"
   ]
  },
  {
   "cell_type": "code",
   "execution_count": 2,
   "metadata": {},
   "outputs": [],
   "source": [
    "path = architecture.database.iloc[0]['filename']"
   ]
  },
  {
   "cell_type": "code",
   "execution_count": 1,
   "metadata": {},
   "outputs": [
    {
     "ename": "TypeError",
     "evalue": "can only concatenate str (not \"int\") to str",
     "output_type": "error",
     "traceback": [
      "\u001b[0;31m---------------------------------------------------------------------------\u001b[0m",
      "\u001b[0;31mTypeError\u001b[0m                                 Traceback (most recent call last)",
      "Cell \u001b[0;32mIn[1], line 4\u001b[0m\n\u001b[1;32m      2\u001b[0m \u001b[38;5;28;01mfrom\u001b[39;00m \u001b[38;5;21;01mpathlib\u001b[39;00m \u001b[38;5;28;01mimport\u001b[39;00m Path\n\u001b[1;32m      3\u001b[0m f \u001b[38;5;241m=\u001b[39m Path(\u001b[38;5;124m'\u001b[39m\u001b[38;5;124m/data/sub-01/sus-03/sub-01_ses_01_task-rast_ron-01_dsc-GfpBk\u001b[39m\u001b[38;5;124m'\u001b[39m)\n\u001b[0;32m----> 4\u001b[0m \u001b[43mselector\u001b[49m\u001b[38;5;241;43m.\u001b[39;49m\u001b[43mvalidate_bids_file\u001b[49m\u001b[43m(\u001b[49m\u001b[43mf\u001b[49m\u001b[43m)\u001b[49m\n",
      "File \u001b[0;32m~/01_projects/eeg_research/src/eeg_research/system/bids_selector.py:100\u001b[0m, in \u001b[0;36mvalidate_bids_file\u001b[0;34m(file)\u001b[0m\n\u001b[1;32m     98\u001b[0m elements \u001b[38;5;241m=\u001b[39m os\u001b[38;5;241m.\u001b[39mfspath(file\u001b[38;5;241m.\u001b[39mname)\u001b[38;5;241m.\u001b[39msplit(\u001b[38;5;124m\"\u001b[39m\u001b[38;5;124m_\u001b[39m\u001b[38;5;124m\"\u001b[39m)[:\u001b[38;5;241m-\u001b[39m\u001b[38;5;241m1\u001b[39m]\n\u001b[1;32m     99\u001b[0m indicators, element_ok \u001b[38;5;241m=\u001b[39m _validate_bids_name(elements)\n\u001b[0;32m--> 100\u001b[0m indicators\u001b[38;5;241m.\u001b[39minsert(\u001b[38;5;241m0\u001b[39m, \u001b[38;5;124;43m\"\u001b[39;49m\u001b[38;5;124;43m \u001b[39;49m\u001b[38;5;124;43m\"\u001b[39;49m\u001b[38;5;241;43m*\u001b[39;49m\u001b[43m(\u001b[49m\u001b[38;5;28;43mlen\u001b[39;49m\u001b[43m(\u001b[49m\u001b[43mos\u001b[49m\u001b[38;5;241;43m.\u001b[39;49m\u001b[43mfspath\u001b[49m\u001b[43m(\u001b[49m\u001b[43mfile\u001b[49m\u001b[38;5;241;43m.\u001b[39;49m\u001b[43mparent\u001b[49m\u001b[43m)\u001b[49m\u001b[43m)\u001b[49m\u001b[43m)\u001b[49m\u001b[38;5;241;43m+\u001b[39;49m\u001b[38;5;241;43m1\u001b[39;49m)\n\u001b[1;32m    102\u001b[0m \u001b[38;5;28;01mif\u001b[39;00m \u001b[38;5;129;01mnot\u001b[39;00m \u001b[38;5;28mall\u001b[39m(element_ok):\n\u001b[1;32m    103\u001b[0m     message \u001b[38;5;241m=\u001b[39m \u001b[38;5;124mf\u001b[39m\u001b[38;5;124m\"\u001b[39m\u001b[38;5;124mNon standardized BIDS name\u001b[39m\u001b[38;5;130;01m\\n\u001b[39;00m\u001b[38;5;132;01m{\u001b[39;00mfile\u001b[38;5;132;01m}\u001b[39;00m\u001b[38;5;130;01m\\n\u001b[39;00m\u001b[38;5;124m \u001b[39m\u001b[38;5;132;01m{\u001b[39;00m\u001b[38;5;124m'\u001b[39m\u001b[38;5;124m \u001b[39m\u001b[38;5;124m'\u001b[39m\u001b[38;5;241m.\u001b[39mjoin(indicators)\u001b[38;5;132;01m}\u001b[39;00m\u001b[38;5;124m\"\u001b[39m\n",
      "\u001b[0;31mTypeError\u001b[0m: can only concatenate str (not \"int\") to str"
     ]
    }
   ],
   "source": [
    "import eeg_research.system.bids_selector as selector\n",
    "from pathlib import Path\n",
    "f = Path('/data/sub-01/sus-03/sub-01_ses_01_task-rast_ron-01_dsc-GfpBk')\n",
    "selector.validate_bids_file(f)\n"
   ]
  },
  {
   "cell_type": "code",
   "execution_count": 85,
   "metadata": {},
   "outputs": [
    {
     "data": {
      "text/plain": [
       "'sus-03'"
      ]
     },
     "execution_count": 85,
     "metadata": {},
     "output_type": "execute_result"
    }
   ],
   "source": [
    "import bids_selector\n",
    "f = Path('/data/sub-01/sus-03/sub-01_ses_01_tusk-rast_run-01_dsc-GfpBk')\n",
    "bids_selector.vali"
   ]
  },
  {
   "cell_type": "code",
   "execution_count": null,
   "metadata": {},
   "outputs": [],
   "source": []
  },
  {
   "cell_type": "code",
   "execution_count": 52,
   "metadata": {},
   "outputs": [
    {
     "name": "stdout",
     "output_type": "stream",
     "text": [
      "Non standardized BIDS name\n",
      "sub-01_ses_01_task-rast_ron-01_dsc-GfpBk\n",
      "       ^   ^            ^      ^        \n"
     ]
    }
   ],
   "source": [
    "try:\n",
    "    indicate_error_in_file(f)\n",
    "except BidsValidationError as e:\n",
    "    print(e)"
   ]
  },
  {
   "cell_type": "code",
   "execution_count": 28,
   "metadata": {},
   "outputs": [
    {
     "name": "stdout",
     "output_type": "stream",
     "text": [
      "sub-01_ses_01_task-rast_ron-01_dsc-GfpBk\n",
      "       ^   ^            ^      ^        \n"
     ]
    }
   ],
   "source": [
    "print(message)"
   ]
  },
  {
   "cell_type": "code",
   "execution_count": 15,
   "metadata": {},
   "outputs": [
    {
     "data": {
      "text/plain": [
       "True"
      ]
     },
     "execution_count": 15,
     "metadata": {},
     "output_type": "execute_result"
    }
   ],
   "source": [
    "has_standard_name('sub-01') "
   ]
  },
  {
   "cell_type": "code",
   "execution_count": 5,
   "metadata": {},
   "outputs": [
    {
     "ename": "AttributeError",
     "evalue": "property 'name' of 'PosixPath' object has no setter",
     "output_type": "error",
     "traceback": [
      "\u001b[0;31m---------------------------------------------------------------------------\u001b[0m",
      "\u001b[0;31mAttributeError\u001b[0m                            Traceback (most recent call last)",
      "Cell \u001b[0;32mIn[5], line 1\u001b[0m\n\u001b[0;32m----> 1\u001b[0m \u001b[43mpath\u001b[49m\u001b[38;5;241;43m.\u001b[39;49m\u001b[43mname\u001b[49m \u001b[38;5;241m=\u001b[39m \u001b[38;5;124m'\u001b[39m\u001b[38;5;124msub_01_sas-01_tasking-rest_run-01_desc-GfpBk_eeg.pkl\u001b[39m\u001b[38;5;124m'\u001b[39m\n",
      "\u001b[0;31mAttributeError\u001b[0m: property 'name' of 'PosixPath' object has no setter"
     ]
    }
   ],
   "source": [
    "path.name = 'sub_01_sas-01_tasking-rest_run-01_desc-GfpBk_eeg.pkl'"
   ]
  },
  {
   "cell_type": "markdown",
   "metadata": {},
   "source": [
    "Let's say now we want only the tasks `monkey1`, `inscapes` and `rest`. We will have to call the method `select` of the architecture instance. This method will update internally the database which will then have only the desired selection."
   ]
  },
  {
   "cell_type": "code",
   "execution_count": 3,
   "metadata": {},
   "outputs": [
    {
     "data": {
      "text/html": [
       "<div>\n",
       "<style scoped>\n",
       "    .dataframe tbody tr th:only-of-type {\n",
       "        vertical-align: middle;\n",
       "    }\n",
       "\n",
       "    .dataframe tbody tr th {\n",
       "        vertical-align: top;\n",
       "    }\n",
       "\n",
       "    .dataframe thead th {\n",
       "        text-align: right;\n",
       "    }\n",
       "</style>\n",
       "<table border=\"1\" class=\"dataframe\">\n",
       "  <thead>\n",
       "    <tr style=\"text-align: right;\">\n",
       "      <th></th>\n",
       "      <th>root</th>\n",
       "      <th>subject</th>\n",
       "      <th>session</th>\n",
       "      <th>datatype</th>\n",
       "      <th>task</th>\n",
       "      <th>run</th>\n",
       "      <th>acquisition</th>\n",
       "      <th>description</th>\n",
       "      <th>suffix</th>\n",
       "      <th>extension</th>\n",
       "      <th>filename</th>\n",
       "    </tr>\n",
       "  </thead>\n",
       "  <tbody>\n",
       "    <tr>\n",
       "      <th>0</th>\n",
       "      <td>/data2/Projects/eeg_fmri_natview/derivatives</td>\n",
       "      <td>01</td>\n",
       "      <td>01</td>\n",
       "      <td>eeg</td>\n",
       "      <td>rest</td>\n",
       "      <td>01</td>\n",
       "      <td>None</td>\n",
       "      <td>GfpBk</td>\n",
       "      <td>eeg</td>\n",
       "      <td>.pkl</td>\n",
       "      <td>/data2/Projects/eeg_fmri_natview/derivatives/s...</td>\n",
       "    </tr>\n",
       "    <tr>\n",
       "      <th>1</th>\n",
       "      <td>/data2/Projects/eeg_fmri_natview/derivatives</td>\n",
       "      <td>01</td>\n",
       "      <td>01</td>\n",
       "      <td>eeg</td>\n",
       "      <td>monkey1</td>\n",
       "      <td>02</td>\n",
       "      <td>None</td>\n",
       "      <td>GfpBk</td>\n",
       "      <td>eeg</td>\n",
       "      <td>.pkl</td>\n",
       "      <td>/data2/Projects/eeg_fmri_natview/derivatives/s...</td>\n",
       "    </tr>\n",
       "    <tr>\n",
       "      <th>3</th>\n",
       "      <td>/data2/Projects/eeg_fmri_natview/derivatives</td>\n",
       "      <td>01</td>\n",
       "      <td>01</td>\n",
       "      <td>eeg</td>\n",
       "      <td>monkey1</td>\n",
       "      <td>01</td>\n",
       "      <td>None</td>\n",
       "      <td>CustomGfpBk</td>\n",
       "      <td>eeg</td>\n",
       "      <td>.pkl</td>\n",
       "      <td>/data2/Projects/eeg_fmri_natview/derivatives/s...</td>\n",
       "    </tr>\n",
       "    <tr>\n",
       "      <th>4</th>\n",
       "      <td>/data2/Projects/eeg_fmri_natview/derivatives</td>\n",
       "      <td>01</td>\n",
       "      <td>01</td>\n",
       "      <td>eeg</td>\n",
       "      <td>monkey1</td>\n",
       "      <td>02</td>\n",
       "      <td>None</td>\n",
       "      <td>BandsGfpBk</td>\n",
       "      <td>eeg</td>\n",
       "      <td>.pkl</td>\n",
       "      <td>/data2/Projects/eeg_fmri_natview/derivatives/s...</td>\n",
       "    </tr>\n",
       "    <tr>\n",
       "      <th>7</th>\n",
       "      <td>/data2/Projects/eeg_fmri_natview/derivatives</td>\n",
       "      <td>01</td>\n",
       "      <td>01</td>\n",
       "      <td>eeg</td>\n",
       "      <td>rest</td>\n",
       "      <td>01</td>\n",
       "      <td>None</td>\n",
       "      <td>Raw</td>\n",
       "      <td>eeg</td>\n",
       "      <td>.pkl</td>\n",
       "      <td>/data2/Projects/eeg_fmri_natview/derivatives/s...</td>\n",
       "    </tr>\n",
       "    <tr>\n",
       "      <th>...</th>\n",
       "      <td>...</td>\n",
       "      <td>...</td>\n",
       "      <td>...</td>\n",
       "      <td>...</td>\n",
       "      <td>...</td>\n",
       "      <td>...</td>\n",
       "      <td>...</td>\n",
       "      <td>...</td>\n",
       "      <td>...</td>\n",
       "      <td>...</td>\n",
       "      <td>...</td>\n",
       "    </tr>\n",
       "    <tr>\n",
       "      <th>2145</th>\n",
       "      <td>/data2/Projects/eeg_fmri_natview/derivatives</td>\n",
       "      <td>19</td>\n",
       "      <td>02</td>\n",
       "      <td>eeg</td>\n",
       "      <td>rest</td>\n",
       "      <td>01</td>\n",
       "      <td>None</td>\n",
       "      <td>CustomGfpBk</td>\n",
       "      <td>eeg</td>\n",
       "      <td>.pkl</td>\n",
       "      <td>/data2/Projects/eeg_fmri_natview/derivatives/s...</td>\n",
       "    </tr>\n",
       "    <tr>\n",
       "      <th>2147</th>\n",
       "      <td>/data2/Projects/eeg_fmri_natview/derivatives</td>\n",
       "      <td>19</td>\n",
       "      <td>02</td>\n",
       "      <td>eeg</td>\n",
       "      <td>rest</td>\n",
       "      <td>01</td>\n",
       "      <td>None</td>\n",
       "      <td>BandsGfpBk</td>\n",
       "      <td>eeg</td>\n",
       "      <td>.pkl</td>\n",
       "      <td>/data2/Projects/eeg_fmri_natview/derivatives/s...</td>\n",
       "    </tr>\n",
       "    <tr>\n",
       "      <th>2150</th>\n",
       "      <td>/data2/Projects/eeg_fmri_natview/derivatives</td>\n",
       "      <td>19</td>\n",
       "      <td>02</td>\n",
       "      <td>eeg</td>\n",
       "      <td>rest</td>\n",
       "      <td>01</td>\n",
       "      <td>None</td>\n",
       "      <td>BandsEnv</td>\n",
       "      <td>eeg</td>\n",
       "      <td>.pkl</td>\n",
       "      <td>/data2/Projects/eeg_fmri_natview/derivatives/s...</td>\n",
       "    </tr>\n",
       "    <tr>\n",
       "      <th>2151</th>\n",
       "      <td>/data2/Projects/eeg_fmri_natview/derivatives</td>\n",
       "      <td>19</td>\n",
       "      <td>02</td>\n",
       "      <td>eeg</td>\n",
       "      <td>rest</td>\n",
       "      <td>01</td>\n",
       "      <td>None</td>\n",
       "      <td>BandsEnvBk</td>\n",
       "      <td>eeg</td>\n",
       "      <td>.pkl</td>\n",
       "      <td>/data2/Projects/eeg_fmri_natview/derivatives/s...</td>\n",
       "    </tr>\n",
       "    <tr>\n",
       "      <th>2153</th>\n",
       "      <td>/data2/Projects/eeg_fmri_natview/derivatives</td>\n",
       "      <td>19</td>\n",
       "      <td>02</td>\n",
       "      <td>eeg</td>\n",
       "      <td>rest</td>\n",
       "      <td>01</td>\n",
       "      <td>None</td>\n",
       "      <td>RawBk</td>\n",
       "      <td>eeg</td>\n",
       "      <td>.pkl</td>\n",
       "      <td>/data2/Projects/eeg_fmri_natview/derivatives/s...</td>\n",
       "    </tr>\n",
       "  </tbody>\n",
       "</table>\n",
       "<p>718 rows × 11 columns</p>\n",
       "</div>"
      ],
      "text/plain": [
       "                                              root subject session datatype  \\\n",
       "0     /data2/Projects/eeg_fmri_natview/derivatives      01      01      eeg   \n",
       "1     /data2/Projects/eeg_fmri_natview/derivatives      01      01      eeg   \n",
       "3     /data2/Projects/eeg_fmri_natview/derivatives      01      01      eeg   \n",
       "4     /data2/Projects/eeg_fmri_natview/derivatives      01      01      eeg   \n",
       "7     /data2/Projects/eeg_fmri_natview/derivatives      01      01      eeg   \n",
       "...                                            ...     ...     ...      ...   \n",
       "2145  /data2/Projects/eeg_fmri_natview/derivatives      19      02      eeg   \n",
       "2147  /data2/Projects/eeg_fmri_natview/derivatives      19      02      eeg   \n",
       "2150  /data2/Projects/eeg_fmri_natview/derivatives      19      02      eeg   \n",
       "2151  /data2/Projects/eeg_fmri_natview/derivatives      19      02      eeg   \n",
       "2153  /data2/Projects/eeg_fmri_natview/derivatives      19      02      eeg   \n",
       "\n",
       "         task run acquisition  description suffix extension  \\\n",
       "0        rest  01        None        GfpBk    eeg      .pkl   \n",
       "1     monkey1  02        None        GfpBk    eeg      .pkl   \n",
       "3     monkey1  01        None  CustomGfpBk    eeg      .pkl   \n",
       "4     monkey1  02        None   BandsGfpBk    eeg      .pkl   \n",
       "7        rest  01        None          Raw    eeg      .pkl   \n",
       "...       ...  ..         ...          ...    ...       ...   \n",
       "2145     rest  01        None  CustomGfpBk    eeg      .pkl   \n",
       "2147     rest  01        None   BandsGfpBk    eeg      .pkl   \n",
       "2150     rest  01        None     BandsEnv    eeg      .pkl   \n",
       "2151     rest  01        None   BandsEnvBk    eeg      .pkl   \n",
       "2153     rest  01        None        RawBk    eeg      .pkl   \n",
       "\n",
       "                                               filename  \n",
       "0     /data2/Projects/eeg_fmri_natview/derivatives/s...  \n",
       "1     /data2/Projects/eeg_fmri_natview/derivatives/s...  \n",
       "3     /data2/Projects/eeg_fmri_natview/derivatives/s...  \n",
       "4     /data2/Projects/eeg_fmri_natview/derivatives/s...  \n",
       "7     /data2/Projects/eeg_fmri_natview/derivatives/s...  \n",
       "...                                                 ...  \n",
       "2145  /data2/Projects/eeg_fmri_natview/derivatives/s...  \n",
       "2147  /data2/Projects/eeg_fmri_natview/derivatives/s...  \n",
       "2150  /data2/Projects/eeg_fmri_natview/derivatives/s...  \n",
       "2151  /data2/Projects/eeg_fmri_natview/derivatives/s...  \n",
       "2153  /data2/Projects/eeg_fmri_natview/derivatives/s...  \n",
       "\n",
       "[718 rows x 11 columns]"
      ]
     },
     "execution_count": 3,
     "metadata": {},
     "output_type": "execute_result"
    }
   ],
   "source": [
    "architecture.select(task = ['monkey1','inscapes', 'rest'])\n",
    "\n",
    "#Let's take a look at the database\n",
    "architecture.database"
   ]
  },
  {
   "cell_type": "markdown",
   "metadata": {},
   "source": [
    "If we check what are the selected task:"
   ]
  },
  {
   "cell_type": "code",
   "execution_count": 4,
   "metadata": {},
   "outputs": [
    {
     "data": {
      "text/plain": [
       "array(['rest', 'monkey1', 'inscapes'], dtype=object)"
      ]
     },
     "execution_count": 4,
     "metadata": {},
     "output_type": "execute_result"
    }
   ],
   "source": [
    "architecture.database['task'].unique()"
   ]
  },
  {
   "cell_type": "markdown",
   "metadata": {},
   "source": [
    "The thing is now we can't get another task than the one selected. The BidsArchitecture instance has been overwritten.\n",
    "However, it is possible to get the specific selection IN another object without modifying the original instance by calling the method `copy()`:"
   ]
  },
  {
   "cell_type": "code",
   "execution_count": 5,
   "metadata": {},
   "outputs": [],
   "source": [
    "#For this example I have to re-initiate my BidsArchitecture instance because it has been overwritten\n",
    "root = Path(\"/data2/Projects/eeg_fmri_natview/derivatives\")\n",
    "architecture = BidsArchitecture(\n",
    "    root = root,\n",
    "    datatype='eeg',\n",
    "    suffix='eeg',\n",
    "    extension = '.pkl'\n",
    ")\n",
    "\n",
    "#Let's perform a selection and put that in another instance now:\n",
    "selection = architecture.copy().select(task = \"checker\")\n",
    "\n"
   ]
  },
  {
   "cell_type": "markdown",
   "metadata": {},
   "source": [
    "As we can see the `architecture` instance is not modified, we still have all the tasks:"
   ]
  },
  {
   "cell_type": "code",
   "execution_count": 6,
   "metadata": {},
   "outputs": [
    {
     "data": {
      "text/plain": [
       "array(['rest', 'monkey1', 'checker', 'tp', 'peer', 'inscapes', 'dme',\n",
       "       'dmh', 'monkey5', 'monkey2'], dtype=object)"
      ]
     },
     "execution_count": 6,
     "metadata": {},
     "output_type": "execute_result"
    }
   ],
   "source": [
    "architecture.database['task'].unique()"
   ]
  },
  {
   "cell_type": "markdown",
   "metadata": {},
   "source": [
    "And the `selection` instance has the desired task:"
   ]
  },
  {
   "cell_type": "code",
   "execution_count": 7,
   "metadata": {},
   "outputs": [
    {
     "data": {
      "text/plain": [
       "array(['checker'], dtype=object)"
      ]
     },
     "execution_count": 7,
     "metadata": {},
     "output_type": "execute_result"
    }
   ],
   "source": [
    "selection.database['task'].unique()"
   ]
  },
  {
   "cell_type": "markdown",
   "metadata": {},
   "source": [
    "We can also select a desired range of data that has numerical values such as `subject`, `session` or `run`."
   ]
  },
  {
   "cell_type": "markdown",
   "metadata": {},
   "source": []
  }
 ],
 "metadata": {
  "kernelspec": {
   "display_name": "mne",
   "language": "python",
   "name": "python3"
  },
  "language_info": {
   "codemirror_mode": {
    "name": "ipython",
    "version": 3
   },
   "file_extension": ".py",
   "mimetype": "text/x-python",
   "name": "python",
   "nbconvert_exporter": "python",
   "pygments_lexer": "ipython3",
   "version": "3.12.2"
  }
 },
 "nbformat": 4,
 "nbformat_minor": 2
}
