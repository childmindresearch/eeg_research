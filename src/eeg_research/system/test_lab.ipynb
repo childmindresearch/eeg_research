{
 "cells": [
  {
   "cell_type": "markdown",
   "metadata": {},
   "source": [
    "# Tutorial\n",
    "Here is how to use the `bids_selector` module (which is still under development).\n",
    "The first thing to know is that the main object you will be dealing with is a BidsArchitecture.\n",
    "As indicated in its name, the object will provide a view of the architecture of the dataset as a function of the user input.\n",
    "The database is basically all the files parsed into a pandas dataframe. And it is from this dataframe I will work on.\n",
    "For example if we want a list of all the eeg data which is a `pickle` object (extension `.pkl`) we will input the object as follow:"
   ]
  },
  {
   "cell_type": "code",
   "execution_count": 1,
   "metadata": {},
   "outputs": [],
   "source": [
    "from pathlib import Path\n",
    "from eeg_research.system.bids_selector  import BidsArchitecture, BidsQuery, BidsPath, BidsDescriptor\n",
    "import os\n",
    "root = Path(\"/data2/Projects/eeg_fmri_natview/derivatives\")\n",
    "architecture = BidsArchitecture(\n",
    "    root = root,\n",
    "    datatype='eeg',\n",
    "    suffix='eeg',\n",
    "    extension = '.pkl'\n",
    ")\n"
   ]
  },
  {
   "cell_type": "markdown",
   "metadata": {},
   "source": [
    "We can have a view of the desired dataset by getting the attribute `database` of the `architecture` instance:"
   ]
  },
  {
   "cell_type": "code",
   "execution_count": 2,
   "metadata": {},
   "outputs": [],
   "source": [
    "path = architecture.database.iloc[0]['filename']"
   ]
  },
  {
   "cell_type": "code",
   "execution_count": null,
   "metadata": {},
   "outputs": [
    {
     "ename": "BidsValidationError",
     "evalue": "Non standardized BIDS name\n/data/sub-01/sus-03/sub-01_ses_01_task-rast_ron-01_dsc-GfpBk_eeg.pkl\n                            ^^^ ^^           ^^^^^^ ^^^^^^^^^",
     "output_type": "error",
     "traceback": [
      "\u001b[0;31m---------------------------------------------------------------------------\u001b[0m",
      "\u001b[0;31mBidsValidationError\u001b[0m                       Traceback (most recent call last)",
      "Cell \u001b[0;32mIn[1], line 4\u001b[0m\n\u001b[1;32m      2\u001b[0m \u001b[38;5;28;01mfrom\u001b[39;00m \u001b[38;5;21;01mpathlib\u001b[39;00m \u001b[38;5;28;01mimport\u001b[39;00m Path\n\u001b[1;32m      3\u001b[0m f \u001b[38;5;241m=\u001b[39m Path(\u001b[38;5;124m'\u001b[39m\u001b[38;5;124m/data/sub-01/sus-03/sub-01_ses_01_task-rast_ron-01_dsc-GfpBk_eeg.pkl\u001b[39m\u001b[38;5;124m'\u001b[39m)\n\u001b[0;32m----> 4\u001b[0m \u001b[43mselector\u001b[49m\u001b[38;5;241;43m.\u001b[39;49m\u001b[43mvalidate_bids_file\u001b[49m\u001b[43m(\u001b[49m\u001b[43mf\u001b[49m\u001b[43m)\u001b[49m\n",
      "File \u001b[0;32m~/01_projects/eeg_research/src/eeg_research/system/bids_selector.py:104\u001b[0m, in \u001b[0;36mvalidate_bids_file\u001b[0;34m(file)\u001b[0m\n\u001b[1;32m    102\u001b[0m \u001b[38;5;28;01mif\u001b[39;00m \u001b[38;5;129;01mnot\u001b[39;00m \u001b[38;5;28mall\u001b[39m(element_ok):\n\u001b[1;32m    103\u001b[0m     message \u001b[38;5;241m=\u001b[39m \u001b[38;5;124mf\u001b[39m\u001b[38;5;124m\"\u001b[39m\u001b[38;5;124mNon standardized BIDS name\u001b[39m\u001b[38;5;130;01m\\n\u001b[39;00m\u001b[38;5;132;01m{\u001b[39;00mfile\u001b[38;5;132;01m}\u001b[39;00m\u001b[38;5;130;01m\\n\u001b[39;00m\u001b[38;5;124m \u001b[39m\u001b[38;5;132;01m{\u001b[39;00m\u001b[38;5;124m'\u001b[39m\u001b[38;5;124m \u001b[39m\u001b[38;5;124m'\u001b[39m\u001b[38;5;241m.\u001b[39mjoin(indicators)\u001b[38;5;132;01m}\u001b[39;00m\u001b[38;5;124m\"\u001b[39m\n\u001b[0;32m--> 104\u001b[0m     \u001b[38;5;28;01mraise\u001b[39;00m BidsValidationError(message)\n",
      "\u001b[0;31mBidsValidationError\u001b[0m: Non standardized BIDS name\n/data/sub-01/sus-03/sub-01_ses_01_task-rast_ron-01_dsc-GfpBk_eeg.pkl\n                            ^^^ ^^           ^^^^^^ ^^^^^^^^^"
     ]
    }
   ],
   "source": [
    "import eeg_research.system.bids_selector as selector\n",
    "from pathlib import Path\n",
    "f = Path('/data/sub-01/sus-03/sub-01_ses_01_task-rast_runass-01_dsscr-GfpBk_eeg.pkl')\n",
    "selector.validate_bids_file(f)\n"
   ]
  },
  {
   "cell_type": "code",
   "execution_count": null,
   "metadata": {},
   "outputs": [
    {
     "ename": "BidsValidationError",
     "evalue": "Non standardized BIDS name\n1. Invalid element in filename: 'eeg.pkl' is not in the format '<key>-<value>'.\n/data/dududu/dididi/saab-01/sucemoila-01/sub-01_ses-01_task-rast_run-01_desc-GfpBk_eeg.pkl\n                                                                                   ^^^^^^^",
     "output_type": "error",
     "traceback": [
      "\u001b[0;31m---------------------------------------------------------------------------\u001b[0m",
      "\u001b[0;31mBidsValidationError\u001b[0m                       Traceback (most recent call last)",
      "Cell \u001b[0;32mIn[28], line 74\u001b[0m\n\u001b[1;32m     72\u001b[0m     validate_bids_file(f)\n\u001b[1;32m     73\u001b[0m \u001b[38;5;28;01mexcept\u001b[39;00m BidsValidationError \u001b[38;5;28;01mas\u001b[39;00m e:\n\u001b[0;32m---> 74\u001b[0m     \u001b[38;5;28;01mraise\u001b[39;00m e\n\u001b[1;32m     76\u001b[0m \u001b[38;5;28;01mtry\u001b[39;00m:\n\u001b[1;32m     77\u001b[0m     \u001b[38;5;66;03m# Folder validation (only path checked)\u001b[39;00m\n\u001b[1;32m     78\u001b[0m     folder \u001b[38;5;241m=\u001b[39m Path(\u001b[38;5;124m\"\u001b[39m\u001b[38;5;124m/data/sub-01/sus-01\u001b[39m\u001b[38;5;124m\"\u001b[39m)\n",
      "Cell \u001b[0;32mIn[28], line 72\u001b[0m\n\u001b[1;32m     69\u001b[0m \u001b[38;5;28;01mtry\u001b[39;00m:\n\u001b[1;32m     70\u001b[0m     \u001b[38;5;66;03m# File validation (both path and filename checked)\u001b[39;00m\n\u001b[1;32m     71\u001b[0m     f \u001b[38;5;241m=\u001b[39m Path(\u001b[38;5;124m\"\u001b[39m\u001b[38;5;124m/data/dududu/dididi/saab-01/sucemoila-01/sub-01_ses-01_task-rast_run-01_desc-GfpBk_eeg.pkl\u001b[39m\u001b[38;5;124m\"\u001b[39m)\n\u001b[0;32m---> 72\u001b[0m     \u001b[43mvalidate_bids_file\u001b[49m\u001b[43m(\u001b[49m\u001b[43mf\u001b[49m\u001b[43m)\u001b[49m\n\u001b[1;32m     73\u001b[0m \u001b[38;5;28;01mexcept\u001b[39;00m BidsValidationError \u001b[38;5;28;01mas\u001b[39;00m e:\n\u001b[1;32m     74\u001b[0m     \u001b[38;5;28;01mraise\u001b[39;00m e\n",
      "Cell \u001b[0;32mIn[28], line 66\u001b[0m, in \u001b[0;36mvalidate_bids_file\u001b[0;34m(file)\u001b[0m\n\u001b[1;32m     60\u001b[0m \u001b[38;5;28;01mif\u001b[39;00m errors:\n\u001b[1;32m     61\u001b[0m     message \u001b[38;5;241m=\u001b[39m (\n\u001b[1;32m     62\u001b[0m         \u001b[38;5;124mf\u001b[39m\u001b[38;5;124m\"\u001b[39m\u001b[38;5;124mNon standardized BIDS name\u001b[39m\u001b[38;5;130;01m\\n\u001b[39;00m\u001b[38;5;124m\"\u001b[39m\\\n\u001b[1;32m     63\u001b[0m         \u001b[38;5;241m+\u001b[39m \u001b[38;5;124m\"\u001b[39m\u001b[38;5;130;01m\\n\u001b[39;00m\u001b[38;5;124m\"\u001b[39m\u001b[38;5;241m.\u001b[39mjoin(\u001b[38;5;124mf\u001b[39m\u001b[38;5;124m\"\u001b[39m\u001b[38;5;132;01m{\u001b[39;00mi\u001b[38;5;250m \u001b[39m\u001b[38;5;241m+\u001b[39m\u001b[38;5;250m \u001b[39m\u001b[38;5;241m1\u001b[39m\u001b[38;5;132;01m}\u001b[39;00m\u001b[38;5;124m. \u001b[39m\u001b[38;5;132;01m{\u001b[39;00merror\u001b[38;5;132;01m}\u001b[39;00m\u001b[38;5;124m\"\u001b[39m \u001b[38;5;28;01mfor\u001b[39;00m i, error \u001b[38;5;129;01min\u001b[39;00m \u001b[38;5;28menumerate\u001b[39m(errors))\\\n\u001b[1;32m     64\u001b[0m         \u001b[38;5;241m+\u001b[39m \u001b[38;5;124mf\u001b[39m\u001b[38;5;124m\"\u001b[39m\u001b[38;5;130;01m\\n\u001b[39;00m\u001b[38;5;132;01m{\u001b[39;00mfile\u001b[38;5;132;01m}\u001b[39;00m\u001b[38;5;130;01m\\n\u001b[39;00m\u001b[38;5;132;01m{\u001b[39;00merror_indicator\u001b[38;5;132;01m}\u001b[39;00m\u001b[38;5;124m\"\u001b[39m\n\u001b[1;32m     65\u001b[0m     )\n\u001b[0;32m---> 66\u001b[0m     \u001b[38;5;28;01mraise\u001b[39;00m BidsValidationError(message)\n",
      "\u001b[0;31mBidsValidationError\u001b[0m: Non standardized BIDS name\n1. Invalid element in filename: 'eeg.pkl' is not in the format '<key>-<value>'.\n/data/dududu/dididi/saab-01/sucemoila-01/sub-01_ses-01_task-rast_run-01_desc-GfpBk_eeg.pkl\n                                                                                   ^^^^^^^"
     ]
    }
   ],
   "source": [
    "import re\n",
    "from pathlib import Path\n",
    "import os\n",
    "\n",
    "class BidsValidationError(Exception):\n",
    "    \"\"\"Custom exception for BIDS validation errors.\"\"\"\n",
    "    pass\n",
    "\n",
    "def validate_bids_file(file: Path):\n",
    "    \"\"\"Validate the BIDS filename and pathname.\"\"\"\n",
    "    # Define BIDS rules\n",
    "    valid_keys = {'sub', 'ses', 'task', 'run', 'acq', 'desc'}\n",
    "    key_value_pattern = re.compile(r\"(?P<key>\\w+)-(?P<value>[\\w\\d]+)\")\n",
    "    path_pattern = re.compile(r\"(sub|ses|task|run|acq|desc)-[\\w\\d]+\")\n",
    "    errors = []\n",
    "    indicators = []\n",
    "\n",
    "    # Separate root and BIDS path components\n",
    "    filename = file.stem if file.suffix else None  # Check if it's a file or folder\n",
    "    bids_key_values_file = filename[:filename.rfind('_')]\n",
    "    bids_suffix = filename[filename.rfind('_'):]\n",
    "    \n",
    "    if filename:\n",
    "        root = file.parents[3]\n",
    "    else:\n",
    "        root = file.parents[2]\n",
    "        \n",
    "    root_parts = root.parts\n",
    "    bids_start = next((i for i, part in enumerate(root_parts) if part.startswith(\"sub-\")), None)\n",
    "    if bids_start is None:\n",
    "        raise BidsValidationError(\"Path does not contain any BIDS elements (e.g., 'sub-*').\")\n",
    "    \n",
    "    # 1. Validate BIDS path components\n",
    "    for part in root_parts[bids_start:]:\n",
    "        if path_pattern.match(part) is None:\n",
    "            errors.append(f\"Invalid path component: '{part}' should match the pattern '<key>-<value>'.\")\n",
    "            indicators.append(\"^\" * len(part))\n",
    "        else:\n",
    "            indicators.append(\" \" * len(part))\n",
    "\n",
    "    # 2. Validate filename components (if it's a file)\n",
    "    if filename:\n",
    "        elements = bids_key_values_file.split(\"_\")\n",
    "        for element in elements:\n",
    "            match = key_value_pattern.match(element)\n",
    "            if not match:\n",
    "                errors.append(f\"Invalid element in filename: '{element}' is not in the format '<key>-<value>'.\")\n",
    "                indicators.append(\"^\" * len(element))\n",
    "                continue\n",
    "            \n",
    "            key, value = match.group(\"key\"), match.group(\"value\")\n",
    "            if key not in valid_keys:\n",
    "                errors.append(\n",
    "                    f\"Wrong key, got '{key}'. Key should be one of the following: {', '.join(sorted(valid_keys))}.\"\n",
    "                )\n",
    "                indicators.append(\"^\" * len(element))\n",
    "            else:\n",
    "                indicators.append(\" \" * len(element))\n",
    "    else:\n",
    "        # For folder validation, ignore the filename\n",
    "        indicators.append(\" \" * len(root_parts[-1]))\n",
    "\n",
    "    # Combine indicators and errors\n",
    "    error_indicator = \" \"*(len(os.fspath(root))+1) + \" \".join(indicators)\n",
    "    if errors:\n",
    "        message = (\n",
    "            f\"Non standardized BIDS name\\n\"\\\n",
    "            + \"\\n\".join(f\"{i + 1}. {error}\" for i, error in enumerate(errors))\\\n",
    "            + f\"\\n{file}\\n{error_indicator}\"\n",
    "        )\n",
    "        raise BidsValidationError(message)\n",
    "\n",
    "# Example usage\n",
    "try:\n",
    "    # File validation (both path and filename checked)\n",
    "    f = Path(\"/data/dududu/dididi/saab-01/sucemoila-01/eeg/sub-01_ses-01_task-rast_run-01_desc-GfpBk_eeg.pkl\")\n",
    "    validate_bids_file(f)\n",
    "except BidsValidationError as e:\n",
    "    raise e\n",
    "\n",
    "try:\n",
    "    # Folder validation (only path checked)\n",
    "    folder = Path(\"/data/sub-01/sus-01\")\n",
    "    validate_bids_file(folder)\n",
    "except BidsValidationError as e:\n",
    "    print(e)\n",
    "\n"
   ]
  },
  {
   "cell_type": "code",
   "execution_count": 17,
   "metadata": {},
   "outputs": [
    {
     "name": "stdout",
     "output_type": "stream",
     "text": [
      "<class 'pathlib.PosixPath'>\n",
      "('sub-01', 'ses-01')\n",
      "eeg\n",
      "Datatype valid: <re.Match object; span=(0, 3), match='eeg'>\n",
      "sub-01 valid: <re.Match object; span=(0, 6), match='sub-01'>\n",
      "ses-01 valid: <re.Match object; span=(0, 6), match='ses-01'>\n",
      "Match filename sub-01_ses-01_task-test_acq-fast_run-01_eeg.vhdr: <re.Match object; span=(0, 48), match='sub-01_ses-01_task-test_acq-fast_run-01_eeg.vhdr'>\n",
      "<class 'pathlib.PosixPath'>\n",
      "('sub-01', 'ses-01')\n",
      "EEG\n",
      "Datatype valid: None\n",
      "sub-01 valid: <re.Match object; span=(0, 6), match='sub-01'>\n",
      "ses-01 valid: <re.Match object; span=(0, 6), match='ses-01'>\n",
      "Match filename sub-01_ses-01_task-test_acq-fast_run-01_bad.json: <re.Match object; span=(0, 48), match='sub-01_ses-01_task-test_acq-fast_run-01_bad.json'>\n"
     ]
    },
    {
     "ename": "BidsValidationError",
     "evalue": "Non standardized BIDS name\n/data/sub-01/ses-01/EEG/sub-01_ses-01_task-test_acq-fast_run-01_bad.json\n      ^^^              \n\n1. Invalid datatype: 'EEG' should be a lowercase alphanumeric string.",
     "output_type": "error",
     "traceback": [
      "\u001b[0;31m---------------------------------------------------------------------------\u001b[0m",
      "\u001b[0;31mBidsValidationError\u001b[0m                       Traceback (most recent call last)",
      "Cell \u001b[0;32mIn[17], line 90\u001b[0m\n\u001b[1;32m     88\u001b[0m     validate_bids_file(f)\n\u001b[1;32m     89\u001b[0m \u001b[38;5;28;01mexcept\u001b[39;00m BidsValidationError \u001b[38;5;28;01mas\u001b[39;00m e:\n\u001b[0;32m---> 90\u001b[0m     \u001b[38;5;28;01mraise\u001b[39;00m e\n",
      "Cell \u001b[0;32mIn[17], line 88\u001b[0m\n\u001b[1;32m     85\u001b[0m \u001b[38;5;28;01mtry\u001b[39;00m:\n\u001b[1;32m     86\u001b[0m     \u001b[38;5;66;03m# Invalid file\u001b[39;00m\n\u001b[1;32m     87\u001b[0m     f \u001b[38;5;241m=\u001b[39m Path(\u001b[38;5;124m\"\u001b[39m\u001b[38;5;124m/data/sub-01/ses-01/EEG/sub-01_ses-01_task-test_acq-fast_run-01_bad.json\u001b[39m\u001b[38;5;124m\"\u001b[39m)\n\u001b[0;32m---> 88\u001b[0m     \u001b[43mvalidate_bids_file\u001b[49m\u001b[43m(\u001b[49m\u001b[43mf\u001b[49m\u001b[43m)\u001b[49m\n\u001b[1;32m     89\u001b[0m \u001b[38;5;28;01mexcept\u001b[39;00m BidsValidationError \u001b[38;5;28;01mas\u001b[39;00m e:\n\u001b[1;32m     90\u001b[0m     \u001b[38;5;28;01mraise\u001b[39;00m e\n",
      "Cell \u001b[0;32mIn[17], line 75\u001b[0m, in \u001b[0;36mvalidate_bids_file\u001b[0;34m(file)\u001b[0m\n\u001b[1;32m     70\u001b[0m \u001b[38;5;28;01mif\u001b[39;00m errors:\n\u001b[1;32m     71\u001b[0m     message \u001b[38;5;241m=\u001b[39m (\n\u001b[1;32m     72\u001b[0m         \u001b[38;5;124mf\u001b[39m\u001b[38;5;124m\"\u001b[39m\u001b[38;5;124mNon standardized BIDS name\u001b[39m\u001b[38;5;130;01m\\n\u001b[39;00m\u001b[38;5;132;01m{\u001b[39;00mfile\u001b[38;5;132;01m}\u001b[39;00m\u001b[38;5;130;01m\\n\u001b[39;00m\u001b[38;5;132;01m{\u001b[39;00merror_indicator\u001b[38;5;132;01m}\u001b[39;00m\u001b[38;5;130;01m\\n\u001b[39;00m\u001b[38;5;130;01m\\n\u001b[39;00m\u001b[38;5;124m\"\u001b[39m\n\u001b[1;32m     73\u001b[0m         \u001b[38;5;241m+\u001b[39m \u001b[38;5;124m\"\u001b[39m\u001b[38;5;130;01m\\n\u001b[39;00m\u001b[38;5;124m\"\u001b[39m\u001b[38;5;241m.\u001b[39mjoin(\u001b[38;5;124mf\u001b[39m\u001b[38;5;124m\"\u001b[39m\u001b[38;5;132;01m{\u001b[39;00mi\u001b[38;5;250m \u001b[39m\u001b[38;5;241m+\u001b[39m\u001b[38;5;250m \u001b[39m\u001b[38;5;241m1\u001b[39m\u001b[38;5;132;01m}\u001b[39;00m\u001b[38;5;124m. \u001b[39m\u001b[38;5;132;01m{\u001b[39;00merror\u001b[38;5;132;01m}\u001b[39;00m\u001b[38;5;124m\"\u001b[39m \u001b[38;5;28;01mfor\u001b[39;00m i, error \u001b[38;5;129;01min\u001b[39;00m \u001b[38;5;28menumerate\u001b[39m(errors))\n\u001b[1;32m     74\u001b[0m     )\n\u001b[0;32m---> 75\u001b[0m     \u001b[38;5;28;01mraise\u001b[39;00m BidsValidationError(message)\n",
      "\u001b[0;31mBidsValidationError\u001b[0m: Non standardized BIDS name\n/data/sub-01/ses-01/EEG/sub-01_ses-01_task-test_acq-fast_run-01_bad.json\n      ^^^              \n\n1. Invalid datatype: 'EEG' should be a lowercase alphanumeric string."
     ]
    }
   ],
   "source": [
    "import re\n",
    "from pathlib import Path\n",
    "import os\n",
    "\n",
    "class BidsValidationError(Exception):\n",
    "    \"\"\"Custom exception for BIDS validation errors.\"\"\"\n",
    "    pass\n",
    "\n",
    "def validate_bids_file(file: Path):\n",
    "    \"\"\"Validate the BIDS filename and pathname.\"\"\"\n",
    "    # Define BIDS rules\n",
    "    valid_datatype_pattern = re.compile(r\"^[a-z0-9]+$\")\n",
    "    valid_filename_pattern = re.compile(\n",
    "        r\"^sub-(?P<sub>[\\w\\d]+)\"\n",
    "        r\"(?:_ses-(?P<ses>[\\w\\d]+))?\"\n",
    "        r\"_task-(?P<task>[\\w\\d]+)\"\n",
    "        r\"(?:_acq-(?P<acq>[\\w\\d]+))?\"\n",
    "        r\"(?:_run-(?P<run>[\\w\\d]+))?\"\n",
    "        r\"(?:_recording-(?P<recording>[\\w\\d]+))?\"\n",
    "        r\"_(?P<suffix>[\\w]+)?\"\n",
    "        r\".(?P<extension>[\\w\\.]+)$\"\n",
    "    )\n",
    "\n",
    "    errors = []\n",
    "    indicators = []\n",
    "\n",
    "    filename = os.fspath(file.name) if file.suffix else None  # Check if it's a file or folder\n",
    "    \n",
    "    if filename:\n",
    "        root = Path(*file.parent.parts[:-3])\n",
    "        bids_path_parts = file.parent.parts[-3:-1]\n",
    "        datatype = file.parent.parts[-1]\n",
    "    else:\n",
    "        root = Path(*file.parent.parts[:-2])\n",
    "        bids_path_parts = file.parent.parts[-2:]\n",
    "        datatype = file.parts[-1]\n",
    "        \n",
    "    print(type(root))\n",
    "    print(bids_path_parts)\n",
    "    print(datatype)\n",
    "    if not bids_path_parts[0].startswith(\"sub-\"):\n",
    "        raise BidsValidationError(\"Path does not contain any BIDS elements (e.g., 'sub-*').\")\n",
    "    \n",
    "    # 1. Validate datatype\n",
    "    print(f\"Datatype valid: {valid_datatype_pattern.match(datatype)}\")\n",
    "    if datatype and not valid_datatype_pattern.match(datatype):\n",
    "        errors.append(f\"Invalid datatype: '{datatype}' should be a lowercase alphanumeric string.\")\n",
    "        indicators.append(\"^\" * len(datatype))\n",
    "\n",
    "    # 2. Validate BIDS path components\n",
    "    path_pattern = re.compile(r\"(sub|ses)-[\\w\\d]+\")\n",
    "    for part in bids_path_parts:\n",
    "        print(f\"{part} valid: {path_pattern.match(part)}\")\n",
    "        if not path_pattern.match(part):\n",
    "            errors.append(f\"Invalid path component: '{part}' should match the pattern '<key>-<value>'.\")\n",
    "            indicators.append(\"^\" * len(part))\n",
    "        else:\n",
    "            indicators.append(\" \" * len(part))\n",
    "\n",
    "    # 3. Validate filename\n",
    "    if filename:\n",
    "        match = valid_filename_pattern.match(filename)\n",
    "        print(f\"Match filename {filename}: {match}\")\n",
    "        if not match:\n",
    "            errors.append(f\"Invalid filename: '{filename}' does not match the expected BIDS format.\")\n",
    "            indicators.append(\"^\" * len(filename))\n",
    "\n",
    "    # Combine indicators and errors\n",
    "    error_indicator = \" \"*(len(os.fspath(root))+1) + \" \".join(indicators)\n",
    "    if errors:\n",
    "        message = (\n",
    "            f\"Non standardized BIDS name\\n{file}\\n{error_indicator}\\n\\n\"\n",
    "            + \"\\n\".join(f\"{i + 1}. {error}\" for i, error in enumerate(errors))\n",
    "        )\n",
    "        raise BidsValidationError(message)\n",
    "\n",
    "# Example usage\n",
    "try:\n",
    "    # Valid file\n",
    "    f = Path(\"/data/sub-01/ses-01/eeg/sub-01_ses-01_task-test_acq-fast_run-01_eeg.vhdr\")\n",
    "    validate_bids_file(f)\n",
    "except BidsValidationError as e:\n",
    "    raise e\n",
    "\n",
    "try:\n",
    "    # Invalid file\n",
    "    f = Path(\"/data/sub-01/ses-01/EEG/sub-01_ses-01_task-test_acq-fast_run-01_bad.json\")\n",
    "    validate_bids_file(f)\n",
    "except BidsValidationError as e:\n",
    "    raise e\n"
   ]
  },
  {
   "cell_type": "code",
   "execution_count": 9,
   "metadata": {},
   "outputs": [
    {
     "name": "stdout",
     "output_type": "stream",
     "text": [
      "sub\n",
      "ses\n",
      "PROUUUUT\n",
      "task\n",
      "run\n",
      "PROUUUUT\n"
     ]
    }
   ],
   "source": [
    "f = Path('/data/sub-01/sus-03/sub-01_ses_01_task-rast_runass-01_dsscr-GfpBk_eeg.pkl')\n",
    "def contain_standard_name(key):\n",
    "    standard_names = [\n",
    "    \"sub\",\n",
    "    \"ses\",\n",
    "    \"task\",\n",
    "    \"acq\",\n",
    "    \"run\",\n",
    "    \"record\",\n",
    "    \"desc\",\n",
    "    ]\n",
    "    \n",
    "    \n",
    "    return any([name in key for name in standard_names])\n",
    "standard_names = [\n",
    "\"sub\",\n",
    "\"ses\",\n",
    "\"task\",\n",
    "\"acq\",\n",
    "\"run\",\n",
    "\"record\",\n",
    "\"desc\",\n",
    "]\n",
    "\n",
    "for name in standard_names:\n",
    "    if name in f.name:\n",
    "        elem_boundaries = (f.name.find(name), f.name.find(name) + len(name))\n",
    "        print(name)\n",
    "        if f.name[elem_boundaries[1]] != \"-\":\n",
    "            print(\"PROUUUUT\")\n",
    "        "
   ]
  },
  {
   "cell_type": "code",
   "execution_count": 16,
   "metadata": {},
   "outputs": [],
   "source": [
    "import bids_selector\n",
    "from pathlib import Path\n",
    "f = Path('/data/sub-01/sus-03/eeg/')#sub-01_ses_01_tusk-rast_run-01_dsc-GfpBk_eeg.pkl')"
   ]
  },
  {
   "cell_type": "code",
   "execution_count": 16,
   "metadata": {},
   "outputs": [
    {
     "data": {
      "text/plain": [
       "PosixPath('ses-01/eeg')"
      ]
     },
     "execution_count": 16,
     "metadata": {},
     "output_type": "execute_result"
    }
   ],
   "source": [
    "Path(*f.parent.parts[-2:])"
   ]
  },
  {
   "cell_type": "code",
   "execution_count": 32,
   "metadata": {},
   "outputs": [
    {
     "data": {
      "text/plain": [
       "'sub-01_ses_01_tusk-rast_run-01_dsc-GfpBk_eeg'"
      ]
     },
     "execution_count": 32,
     "metadata": {},
     "output_type": "execute_result"
    }
   ],
   "source": [
    "Path.joinpath"
   ]
  },
  {
   "cell_type": "code",
   "execution_count": 15,
   "metadata": {},
   "outputs": [
    {
     "data": {
      "text/plain": [
       "False"
      ]
     },
     "execution_count": 15,
     "metadata": {},
     "output_type": "execute_result"
    }
   ],
   "source": [
    "f.is_file()"
   ]
  },
  {
   "cell_type": "code",
   "execution_count": 52,
   "metadata": {},
   "outputs": [
    {
     "name": "stdout",
     "output_type": "stream",
     "text": [
      "Non standardized BIDS name\n",
      "sub-01_ses_01_task-rast_ron-01_dsc-GfpBk\n",
      "       ^   ^            ^      ^        \n"
     ]
    }
   ],
   "source": [
    "try:\n",
    "    indicate_error_in_file(f)\n",
    "except BidsValidationError as e:\n",
    "    print(e)"
   ]
  },
  {
   "cell_type": "code",
   "execution_count": 28,
   "metadata": {},
   "outputs": [
    {
     "name": "stdout",
     "output_type": "stream",
     "text": [
      "sub-01_ses_01_task-rast_ron-01_dsc-GfpBk\n",
      "       ^   ^            ^      ^        \n"
     ]
    }
   ],
   "source": [
    "print(message)"
   ]
  },
  {
   "cell_type": "code",
   "execution_count": 15,
   "metadata": {},
   "outputs": [
    {
     "data": {
      "text/plain": [
       "True"
      ]
     },
     "execution_count": 15,
     "metadata": {},
     "output_type": "execute_result"
    }
   ],
   "source": [
    "has_standard_name('sub-01') "
   ]
  },
  {
   "cell_type": "code",
   "execution_count": 5,
   "metadata": {},
   "outputs": [
    {
     "ename": "AttributeError",
     "evalue": "property 'name' of 'PosixPath' object has no setter",
     "output_type": "error",
     "traceback": [
      "\u001b[0;31m---------------------------------------------------------------------------\u001b[0m",
      "\u001b[0;31mAttributeError\u001b[0m                            Traceback (most recent call last)",
      "Cell \u001b[0;32mIn[5], line 1\u001b[0m\n\u001b[0;32m----> 1\u001b[0m \u001b[43mpath\u001b[49m\u001b[38;5;241;43m.\u001b[39;49m\u001b[43mname\u001b[49m \u001b[38;5;241m=\u001b[39m \u001b[38;5;124m'\u001b[39m\u001b[38;5;124msub_01_sas-01_tasking-rest_run-01_desc-GfpBk_eeg.pkl\u001b[39m\u001b[38;5;124m'\u001b[39m\n",
      "\u001b[0;31mAttributeError\u001b[0m: property 'name' of 'PosixPath' object has no setter"
     ]
    }
   ],
   "source": [
    "path.name = 'sub_01_sas-01_tasking-rest_run-01_desc-GfpBk_eeg.pkl'"
   ]
  },
  {
   "cell_type": "markdown",
   "metadata": {},
   "source": [
    "Let's say now we want only the tasks `monkey1`, `inscapes` and `rest`. We will have to call the method `select` of the architecture instance. This method will update internally the database which will then have only the desired selection."
   ]
  },
  {
   "cell_type": "code",
   "execution_count": 3,
   "metadata": {},
   "outputs": [
    {
     "data": {
      "text/html": [
       "<div>\n",
       "<style scoped>\n",
       "    .dataframe tbody tr th:only-of-type {\n",
       "        vertical-align: middle;\n",
       "    }\n",
       "\n",
       "    .dataframe tbody tr th {\n",
       "        vertical-align: top;\n",
       "    }\n",
       "\n",
       "    .dataframe thead th {\n",
       "        text-align: right;\n",
       "    }\n",
       "</style>\n",
       "<table border=\"1\" class=\"dataframe\">\n",
       "  <thead>\n",
       "    <tr style=\"text-align: right;\">\n",
       "      <th></th>\n",
       "      <th>root</th>\n",
       "      <th>subject</th>\n",
       "      <th>session</th>\n",
       "      <th>datatype</th>\n",
       "      <th>task</th>\n",
       "      <th>run</th>\n",
       "      <th>acquisition</th>\n",
       "      <th>description</th>\n",
       "      <th>suffix</th>\n",
       "      <th>extension</th>\n",
       "      <th>filename</th>\n",
       "    </tr>\n",
       "  </thead>\n",
       "  <tbody>\n",
       "    <tr>\n",
       "      <th>0</th>\n",
       "      <td>/data2/Projects/eeg_fmri_natview/derivatives</td>\n",
       "      <td>01</td>\n",
       "      <td>01</td>\n",
       "      <td>eeg</td>\n",
       "      <td>rest</td>\n",
       "      <td>01</td>\n",
       "      <td>None</td>\n",
       "      <td>GfpBk</td>\n",
       "      <td>eeg</td>\n",
       "      <td>.pkl</td>\n",
       "      <td>/data2/Projects/eeg_fmri_natview/derivatives/s...</td>\n",
       "    </tr>\n",
       "    <tr>\n",
       "      <th>1</th>\n",
       "      <td>/data2/Projects/eeg_fmri_natview/derivatives</td>\n",
       "      <td>01</td>\n",
       "      <td>01</td>\n",
       "      <td>eeg</td>\n",
       "      <td>monkey1</td>\n",
       "      <td>02</td>\n",
       "      <td>None</td>\n",
       "      <td>GfpBk</td>\n",
       "      <td>eeg</td>\n",
       "      <td>.pkl</td>\n",
       "      <td>/data2/Projects/eeg_fmri_natview/derivatives/s...</td>\n",
       "    </tr>\n",
       "    <tr>\n",
       "      <th>3</th>\n",
       "      <td>/data2/Projects/eeg_fmri_natview/derivatives</td>\n",
       "      <td>01</td>\n",
       "      <td>01</td>\n",
       "      <td>eeg</td>\n",
       "      <td>monkey1</td>\n",
       "      <td>01</td>\n",
       "      <td>None</td>\n",
       "      <td>CustomGfpBk</td>\n",
       "      <td>eeg</td>\n",
       "      <td>.pkl</td>\n",
       "      <td>/data2/Projects/eeg_fmri_natview/derivatives/s...</td>\n",
       "    </tr>\n",
       "    <tr>\n",
       "      <th>4</th>\n",
       "      <td>/data2/Projects/eeg_fmri_natview/derivatives</td>\n",
       "      <td>01</td>\n",
       "      <td>01</td>\n",
       "      <td>eeg</td>\n",
       "      <td>monkey1</td>\n",
       "      <td>02</td>\n",
       "      <td>None</td>\n",
       "      <td>BandsGfpBk</td>\n",
       "      <td>eeg</td>\n",
       "      <td>.pkl</td>\n",
       "      <td>/data2/Projects/eeg_fmri_natview/derivatives/s...</td>\n",
       "    </tr>\n",
       "    <tr>\n",
       "      <th>7</th>\n",
       "      <td>/data2/Projects/eeg_fmri_natview/derivatives</td>\n",
       "      <td>01</td>\n",
       "      <td>01</td>\n",
       "      <td>eeg</td>\n",
       "      <td>rest</td>\n",
       "      <td>01</td>\n",
       "      <td>None</td>\n",
       "      <td>Raw</td>\n",
       "      <td>eeg</td>\n",
       "      <td>.pkl</td>\n",
       "      <td>/data2/Projects/eeg_fmri_natview/derivatives/s...</td>\n",
       "    </tr>\n",
       "    <tr>\n",
       "      <th>...</th>\n",
       "      <td>...</td>\n",
       "      <td>...</td>\n",
       "      <td>...</td>\n",
       "      <td>...</td>\n",
       "      <td>...</td>\n",
       "      <td>...</td>\n",
       "      <td>...</td>\n",
       "      <td>...</td>\n",
       "      <td>...</td>\n",
       "      <td>...</td>\n",
       "      <td>...</td>\n",
       "    </tr>\n",
       "    <tr>\n",
       "      <th>2145</th>\n",
       "      <td>/data2/Projects/eeg_fmri_natview/derivatives</td>\n",
       "      <td>19</td>\n",
       "      <td>02</td>\n",
       "      <td>eeg</td>\n",
       "      <td>rest</td>\n",
       "      <td>01</td>\n",
       "      <td>None</td>\n",
       "      <td>CustomGfpBk</td>\n",
       "      <td>eeg</td>\n",
       "      <td>.pkl</td>\n",
       "      <td>/data2/Projects/eeg_fmri_natview/derivatives/s...</td>\n",
       "    </tr>\n",
       "    <tr>\n",
       "      <th>2147</th>\n",
       "      <td>/data2/Projects/eeg_fmri_natview/derivatives</td>\n",
       "      <td>19</td>\n",
       "      <td>02</td>\n",
       "      <td>eeg</td>\n",
       "      <td>rest</td>\n",
       "      <td>01</td>\n",
       "      <td>None</td>\n",
       "      <td>BandsGfpBk</td>\n",
       "      <td>eeg</td>\n",
       "      <td>.pkl</td>\n",
       "      <td>/data2/Projects/eeg_fmri_natview/derivatives/s...</td>\n",
       "    </tr>\n",
       "    <tr>\n",
       "      <th>2150</th>\n",
       "      <td>/data2/Projects/eeg_fmri_natview/derivatives</td>\n",
       "      <td>19</td>\n",
       "      <td>02</td>\n",
       "      <td>eeg</td>\n",
       "      <td>rest</td>\n",
       "      <td>01</td>\n",
       "      <td>None</td>\n",
       "      <td>BandsEnv</td>\n",
       "      <td>eeg</td>\n",
       "      <td>.pkl</td>\n",
       "      <td>/data2/Projects/eeg_fmri_natview/derivatives/s...</td>\n",
       "    </tr>\n",
       "    <tr>\n",
       "      <th>2151</th>\n",
       "      <td>/data2/Projects/eeg_fmri_natview/derivatives</td>\n",
       "      <td>19</td>\n",
       "      <td>02</td>\n",
       "      <td>eeg</td>\n",
       "      <td>rest</td>\n",
       "      <td>01</td>\n",
       "      <td>None</td>\n",
       "      <td>BandsEnvBk</td>\n",
       "      <td>eeg</td>\n",
       "      <td>.pkl</td>\n",
       "      <td>/data2/Projects/eeg_fmri_natview/derivatives/s...</td>\n",
       "    </tr>\n",
       "    <tr>\n",
       "      <th>2153</th>\n",
       "      <td>/data2/Projects/eeg_fmri_natview/derivatives</td>\n",
       "      <td>19</td>\n",
       "      <td>02</td>\n",
       "      <td>eeg</td>\n",
       "      <td>rest</td>\n",
       "      <td>01</td>\n",
       "      <td>None</td>\n",
       "      <td>RawBk</td>\n",
       "      <td>eeg</td>\n",
       "      <td>.pkl</td>\n",
       "      <td>/data2/Projects/eeg_fmri_natview/derivatives/s...</td>\n",
       "    </tr>\n",
       "  </tbody>\n",
       "</table>\n",
       "<p>718 rows × 11 columns</p>\n",
       "</div>"
      ],
      "text/plain": [
       "                                              root subject session datatype  \\\n",
       "0     /data2/Projects/eeg_fmri_natview/derivatives      01      01      eeg   \n",
       "1     /data2/Projects/eeg_fmri_natview/derivatives      01      01      eeg   \n",
       "3     /data2/Projects/eeg_fmri_natview/derivatives      01      01      eeg   \n",
       "4     /data2/Projects/eeg_fmri_natview/derivatives      01      01      eeg   \n",
       "7     /data2/Projects/eeg_fmri_natview/derivatives      01      01      eeg   \n",
       "...                                            ...     ...     ...      ...   \n",
       "2145  /data2/Projects/eeg_fmri_natview/derivatives      19      02      eeg   \n",
       "2147  /data2/Projects/eeg_fmri_natview/derivatives      19      02      eeg   \n",
       "2150  /data2/Projects/eeg_fmri_natview/derivatives      19      02      eeg   \n",
       "2151  /data2/Projects/eeg_fmri_natview/derivatives      19      02      eeg   \n",
       "2153  /data2/Projects/eeg_fmri_natview/derivatives      19      02      eeg   \n",
       "\n",
       "         task run acquisition  description suffix extension  \\\n",
       "0        rest  01        None        GfpBk    eeg      .pkl   \n",
       "1     monkey1  02        None        GfpBk    eeg      .pkl   \n",
       "3     monkey1  01        None  CustomGfpBk    eeg      .pkl   \n",
       "4     monkey1  02        None   BandsGfpBk    eeg      .pkl   \n",
       "7        rest  01        None          Raw    eeg      .pkl   \n",
       "...       ...  ..         ...          ...    ...       ...   \n",
       "2145     rest  01        None  CustomGfpBk    eeg      .pkl   \n",
       "2147     rest  01        None   BandsGfpBk    eeg      .pkl   \n",
       "2150     rest  01        None     BandsEnv    eeg      .pkl   \n",
       "2151     rest  01        None   BandsEnvBk    eeg      .pkl   \n",
       "2153     rest  01        None        RawBk    eeg      .pkl   \n",
       "\n",
       "                                               filename  \n",
       "0     /data2/Projects/eeg_fmri_natview/derivatives/s...  \n",
       "1     /data2/Projects/eeg_fmri_natview/derivatives/s...  \n",
       "3     /data2/Projects/eeg_fmri_natview/derivatives/s...  \n",
       "4     /data2/Projects/eeg_fmri_natview/derivatives/s...  \n",
       "7     /data2/Projects/eeg_fmri_natview/derivatives/s...  \n",
       "...                                                 ...  \n",
       "2145  /data2/Projects/eeg_fmri_natview/derivatives/s...  \n",
       "2147  /data2/Projects/eeg_fmri_natview/derivatives/s...  \n",
       "2150  /data2/Projects/eeg_fmri_natview/derivatives/s...  \n",
       "2151  /data2/Projects/eeg_fmri_natview/derivatives/s...  \n",
       "2153  /data2/Projects/eeg_fmri_natview/derivatives/s...  \n",
       "\n",
       "[718 rows x 11 columns]"
      ]
     },
     "execution_count": 3,
     "metadata": {},
     "output_type": "execute_result"
    }
   ],
   "source": [
    "architecture.select(task = ['monkey1','inscapes', 'rest'])\n",
    "\n",
    "#Let's take a look at the database\n",
    "architecture.database"
   ]
  },
  {
   "cell_type": "markdown",
   "metadata": {},
   "source": [
    "If we check what are the selected task:"
   ]
  },
  {
   "cell_type": "code",
   "execution_count": 4,
   "metadata": {},
   "outputs": [
    {
     "data": {
      "text/plain": [
       "array(['rest', 'monkey1', 'inscapes'], dtype=object)"
      ]
     },
     "execution_count": 4,
     "metadata": {},
     "output_type": "execute_result"
    }
   ],
   "source": [
    "architecture.database['task'].unique()"
   ]
  },
  {
   "cell_type": "markdown",
   "metadata": {},
   "source": [
    "The thing is now we can't get another task than the one selected. The BidsArchitecture instance has been overwritten.\n",
    "However, it is possible to get the specific selection IN another object without modifying the original instance by calling the method `copy()`:"
   ]
  },
  {
   "cell_type": "code",
   "execution_count": 5,
   "metadata": {},
   "outputs": [],
   "source": [
    "#For this example I have to re-initiate my BidsArchitecture instance because it has been overwritten\n",
    "root = Path(\"/data2/Projects/eeg_fmri_natview/derivatives\")\n",
    "architecture = BidsArchitecture(\n",
    "    root = root,\n",
    "    datatype='eeg',\n",
    "    suffix='eeg',\n",
    "    extension = '.pkl'\n",
    ")\n",
    "\n",
    "#Let's perform a selection and put that in another instance now:\n",
    "selection = architecture.copy().select(task = \"checker\")\n",
    "\n"
   ]
  },
  {
   "cell_type": "markdown",
   "metadata": {},
   "source": [
    "As we can see the `architecture` instance is not modified, we still have all the tasks:"
   ]
  },
  {
   "cell_type": "code",
   "execution_count": 6,
   "metadata": {},
   "outputs": [
    {
     "data": {
      "text/plain": [
       "array(['rest', 'monkey1', 'checker', 'tp', 'peer', 'inscapes', 'dme',\n",
       "       'dmh', 'monkey5', 'monkey2'], dtype=object)"
      ]
     },
     "execution_count": 6,
     "metadata": {},
     "output_type": "execute_result"
    }
   ],
   "source": [
    "architecture.database['task'].unique()"
   ]
  },
  {
   "cell_type": "markdown",
   "metadata": {},
   "source": [
    "And the `selection` instance has the desired task:"
   ]
  },
  {
   "cell_type": "code",
   "execution_count": 7,
   "metadata": {},
   "outputs": [
    {
     "data": {
      "text/plain": [
       "array(['checker'], dtype=object)"
      ]
     },
     "execution_count": 7,
     "metadata": {},
     "output_type": "execute_result"
    }
   ],
   "source": [
    "selection.database['task'].unique()"
   ]
  },
  {
   "cell_type": "markdown",
   "metadata": {},
   "source": [
    "We can also select a desired range of data that has numerical values such as `subject`, `session` or `run`."
   ]
  },
  {
   "cell_type": "markdown",
   "metadata": {},
   "source": []
  },
  {
   "cell_type": "code",
   "execution_count": null,
   "metadata": {},
   "outputs": [],
   "source": [
    "import pickle\n",
    "data"
   ]
  }
 ],
 "metadata": {
  "kernelspec": {
   "display_name": "mne",
   "language": "python",
   "name": "python3"
  },
  "language_info": {
   "codemirror_mode": {
    "name": "ipython",
    "version": 3
   },
   "file_extension": ".py",
   "mimetype": "text/x-python",
   "name": "python",
   "nbconvert_exporter": "python",
   "pygments_lexer": "ipython3",
   "version": "3.12.2"
  }
 },
 "nbformat": 4,
 "nbformat_minor": 2
}
